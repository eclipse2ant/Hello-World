{
  "nbformat": 4,
  "nbformat_minor": 0,
  "metadata": {
    "colab": {
      "name": "Advaced_geometry-lecture_2.ipynb",
      "provenance": [],
      "toc_visible": true,
      "authorship_tag": "ABX9TyOEUY+f6BqfRt9RylIJyzlQ",
      "include_colab_link": true
    },
    "kernelspec": {
      "name": "python3",
      "display_name": "Python 3"
    },
    "language_info": {
      "name": "python"
    }
  },
  "cells": [
    {
      "cell_type": "markdown",
      "metadata": {
        "id": "view-in-github",
        "colab_type": "text"
      },
      "source": [
        "<a href=\"https://colab.research.google.com/github/eclipse2ant/Hello-World/blob/master/Advaced_geometry_lecture_2.ipynb\" target=\"_parent\"><img src=\"https://colab.research.google.com/assets/colab-badge.svg\" alt=\"Open In Colab\"/></a>"
      ]
    },
    {
      "cell_type": "markdown",
      "metadata": {
        "id": "WQEEp8XsvGLu"
      },
      "source": [
        "## 1. グラスマン多様体"
      ]
    },
    {
      "cell_type": "markdown",
      "metadata": {
        "id": "xpkM1wSivWi4"
      },
      "source": [
        "- naka-1, naka-2, m1,m2,m3 を読んでください、n二冊の本からの引用ですが、両方とも記号の使い方はだいたい同じかと思います。ここでは、」次の点に特に注意してください。\n",
        "　 "
      ]
    },
    {
      "cell_type": "markdown",
      "metadata": {
        "id": "suwmi0cdVhhh"
      },
      "source": [
        "\n",
        "m2において\n",
        "1.   「$G_n(\\mathbb{R}^{n+k})$がハウスドルフ空間になることを示すには、どの$2$点もある実数値連続関数で分離できることを示せば十分」とかいてあるがそれを示せ。\n",
        "\n",
        "2.   「正規直交$n$枠全体の集合$V^0_n(\\mathbb{R^{n+k}})$は、$\\mathbb{R}^{n+k}\\times \\cdots \\times \\mathbb{R}^{n+k}$の有界閉集合」であることを示せ。また「$G_n(\\mathbb{R}^{n+k})$もコンパクト」を示せ。\n",
        "\n",
        "3.    $T(Y)$が１対１対応　また　全射　であることを示せ。\n",
        "\n",
        "4.    「$y_i$は$Y$が連続的に依存するので、像$T(Y)x_i\\in X_0^{\\bot}$ は$Y$に連続的に依存する」を示せ。\n",
        "\n",
        "5.    「一方この等式は、$n$枠$\\{y_1,\\cdots y_n\\}$が$T(Y)$に連続的に依存し、したがって$Y$が$T(Y)$に連続的に依存することも示している」を証明せよ。\n"
      ]
    }
  ]
}